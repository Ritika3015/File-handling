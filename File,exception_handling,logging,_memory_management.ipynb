{
  "nbformat": 4,
  "nbformat_minor": 0,
  "metadata": {
    "colab": {
      "provenance": []
    },
    "kernelspec": {
      "name": "python3",
      "display_name": "Python 3"
    },
    "language_info": {
      "name": "python"
    }
  },
  "cells": [
    {
      "cell_type": "markdown",
      "source": [
        "1) What is the difference between interpreted and compiled languages?\n",
        "\n",
        "- Interpreted language means code is executed line by line by the interpreter at the runtime. It is slower than compiled because translation happens during execution. Example- Javascript, Ruby, etc\n",
        "\n",
        "- Compiled language means code is converted to machine code first and then the execution is done by the compiler. Fast, because it's already translated into machine code. Example- C++, C, etc\n",
        "\n",
        "2) What is exception handling in Python?\n",
        "\n",
        "- Exception handling in Python is used to gracefully handle runtime errors and avoid program crashes.\n",
        "\n",
        "3) What is the purpose of the finally block in exception handling?\n",
        "\n",
        "- The finally block is used to define code that must run, no matter what happens in the try or except blocks — whether an exception is raised or not.\n",
        "\n",
        "4) What is logging in Python?\n",
        "\n",
        "- Python's logging module is used to record messages that describe what the application is doing. It's much better than using print() for debugging, especially in real applications.\n",
        "\n",
        "5) What is the significance of the __del__ method in Python?\n",
        "\n",
        "- The __del__ method in Python is a destructor — it's a special method that is automatically called when an object is about to be destroyed (i.e., when it's garbage collected).\n",
        "\n",
        "6) What is the difference between import and from ... import in Python?\n",
        "\n",
        "- import statement- Imports the entire module. You need to use the module name as a prefix to access functions, classes, or variables.\n",
        "\n",
        "- from ... import statement- Imports specific attributes (functions, classes, variables) directly from a module. You can use them without the module prefix.\n",
        "\n",
        "7) How can you handle multiple exceptions in Python?\n",
        "\n",
        "- Handle Each Exception Separately- Use multiple except blocks, one for each exception type.\n",
        "- Handle Multiple Exceptions in One Block- If you want to handle several exceptions the same way, you can group them in a tuple.\n",
        "-  Catch-All Exception- Use this to catch any exception, especially in production code where you don’t want the program to crash.\n",
        "- Use else and finally.\n",
        "\n",
        "8) What is the purpose of the with statement when handling files in Python?\n",
        "\n",
        "- Automatic File Closure- Ensures that the file is closed properly after its block of code runs—no need to explicitly call file.close().\n",
        "\n",
        "- Cleaner and More Readable Code- Reduces boilerplate and avoids indentation issues.\n",
        "\n",
        "- Exception Safety- If an error occurs inside the with block, Python still closes the file safely\n",
        "\n",
        "9) What is the difference between multithreading and multiprocessing?\n",
        "\n",
        "- Multithreading\n",
        "- Since it happens in one processor, threads share same memory space and resources.\n",
        "- Runs Concurrently (GIL)\n",
        "- Best for tasks that are part of same application and need to share data or resources.\n",
        "- Use case- input/output process like downloading the file, managing multiple tabs on browser.\n",
        "\n",
        "- Multiprocessing\n",
        "- Multiple cores/processors are there, each process has its own memory space and resources which are isolated from other process.\n",
        "- Runs truly parallel on multiple CPU cores (no GIL).\n",
        "- suitable for tasks that are independent and can run isolation.\n",
        "- Example- some computations, server handling multiple requests simultaneously\n",
        "\n",
        "10) What are the advantages of using logging in a program?\n",
        "\n",
        "- Tracks Events and Errors\n",
        "- Unlike print(), logs can be stored in files for future analysis and auditing.\n",
        "- print() is suitable for quick debugging, but logging is structured and scalable, making it ideal for real-world applications.\n",
        "- In multithreaded or large applications, logging helps trace the flow and catch issues that are hard to find with print().\n",
        "- You can configure log formats, timestamps, and even create multiple loggers for different parts of your application.\n",
        "\n",
        "11) What is memory management in Python?\n",
        "\n",
        "- Python handles memory management automatically, but it still provides mechanisms and best practices for efficient use of memory.\n",
        "- Automatic Garbage Collection: -\n",
        "Python uses a garbage collector (GC) to free memory by removing objects that are no longer in use. It relies primarily on reference counting and secondarily on cyclic garbage collection.\n",
        "- Reference Counting: -\n",
        "Every object in Python has a reference count — the number of references to it.\n",
        "When the count drops to zero (no references to the object), it is immediately destroyed.\n",
        "- Cyclic Garbage Collection: -\n",
        "Python’s garbage collector can detect reference cycles (objects referencing each other in a loop), which reference counting alone can’t clean up.\n",
        "These cycles are collected by Python’s gc module.\n",
        "- Memory Pools (via PyMalloc): -\n",
        "Python uses PyMalloc, a specialized allocator, to manage small objects efficiently using memory pools. This improves speed and reduces fragmentation.\n",
        "\n",
        "12) What are the basic steps involved in exception handling in Python?\n",
        "\n",
        "- Use try Block- Wrap the code that might raise an exception inside a try block\n",
        "- Use except Block- Handle specific or general exceptions using except.\n",
        "- Use else Block (Optional)- Executes only if no exception occurs in the try block.\n",
        "- Use finally Block (Optional)- Always executes whether or not an exception occurred. Often used to release resources.\n",
        "\n",
        "13) Why is memory management important in Python?\n",
        "\n",
        "- Memory management is a critical aspect of any programming language, including Python. Although Python handles much of it automatically, understanding and managing memory properly has a big impact on performance, stability, and scalability of your programs.\n",
        "\n",
        "14) What is the role of try and except in exception handling?\n",
        "\n",
        "- try Block\n",
        "- Place the code that might cause an error inside try.\n",
        "- Python runs this block normally, but watches for errors.\n",
        "\n",
        "- except Block\n",
        "- If an error occurs in try, Python jumps to except and runs it.\n",
        "- You can handle specific exceptions or use a generic one.\n",
        "\n",
        "15) How does Python's garbage collection system work?\n",
        "\n",
        "- Python's garbage collection (GC) system is responsible for automatically freeing up memory by removing objects that are no longer needed. It uses a combination of:\n",
        "- Reference Counting\n",
        "- Cyclic Garbage Collection\n",
        "\n",
        "16) What is the purpose of the else block in exception handling?\n",
        "\n",
        "- The else block in Python's exception handling is used to define code that should run only if no exception occurs in the try block.\n",
        "\n",
        "17) What are the common logging levels in Python?\n",
        "\n",
        "- DEBUG- Detailed information, typically of interest only when diagnosing problems. It is the lowest logging level.\n",
        "\n",
        "- INFO- Confirmation that things are working as expected.\n",
        "\n",
        "- WARNING- An indication that something unexpected happened, or indicative of some problem in the near future (e.g., ‘disk space low’). The software is still working as expected.\n",
        "\n",
        "- ERROR- Due to a more serious problem, the software has not been able to perform some function.\n",
        "\n",
        "- CRITICAL- A very serious error, indicating that the program itself may be unable to continue running. It is the highest logging level.\n",
        "\n",
        "18) What is the difference between os.fork() and multiprocessing in Python?\n",
        "\n",
        "- os.fork() is a low-level system call (available only on Unix-like systems) that creates a child process by duplicating the current process. After fork(), you have two processes running the same code but with separate memory spaces.\n",
        "\n",
        "- Multiprocessing is high-level module in Python to create and manage processes, designed to offer an easy interface similar to threading but for processes.\n",
        "\n",
        "19) What is the importance of closing a file in Python?\n",
        "\n",
        "-  Releases system resources\n",
        "When you open a file, the operating system allocates resources (like file descriptors) to manage it.\n",
        "Closing the file releases these resources, making them available for other processes or files.\n",
        "If too many files remain open without closing, your program or system may run out of file descriptors, causing errors.\n",
        "\n",
        "- Ensures data is written to disk\n",
        "When writing to a file, data is often buffered (stored temporarily in memory) before being physically written to disk.\n",
        "Closing the file flushes the buffer, ensuring all data is actually saved.\n",
        "If you don’t close the file properly, some data might not be saved correctly.\n",
        "\n",
        "- Prevents file corruption and inconsistent state\n",
        "Open files might stay locked or in an inconsistent state if not properly closed.\n",
        "Closing the file signals that you are done, so other programs or parts of your code can safely access the file afterward.\n",
        "\n",
        "- Good programming practice\n",
        "Explicitly closing files makes your code cleaner, more predictable, and easier to maintain.\n",
        "It helps avoid subtle bugs related to file handling.\n",
        "\n",
        "20) What is the difference between file.read() and file.readline() in Python?\n",
        "\n",
        "- file.read()\n",
        "- Reads the entire content of the file (or up to a specified number of bytes if you provide an argument).\n",
        "- Returns a string containing everything.\n",
        "- Moves the file cursor to the end of the file after reading.\n",
        "\n",
        "- file.readline()\n",
        "- Reads only one line from the file each time it is called.\n",
        "- Returns a string containing that single line (including the newline \\n character).\n",
        "- Moves the file cursor to the start of the next line.\n",
        "\n",
        "21) What is the logging module in Python used for?\n",
        "- Debugging: Record detailed information about program execution to find and fix bugs.\n",
        "\n",
        "- Monitoring: Keep track of application behavior in production to detect problems early.\n",
        "\n",
        "- Auditing: Keep records of important events, like user actions or errors, for compliance and analysis.\n",
        "\n",
        "- Error Reporting: Log error messages with details to understand failures and exceptions.\n",
        "\n",
        "- Information Tracking: Log routine info messages such as startup/shutdown, configuration changes, or significant state changes.\n",
        "\n",
        "22) What is the os module in Python used for in file handling?\n",
        "\n",
        "- The os module in Python provides a way to interact with the operating system, and it’s very useful in file handling for tasks beyond just reading/writing files.\n",
        "\n",
        "23) What are the challenges associated with memory management in Python?\n",
        "\n",
        "- Automatic Garbage Collection Limitations-Python uses reference counting plus a cyclic garbage collector.\n",
        "Objects involved in reference cycles (objects referencing each other) can sometimes cause memory leaks if not collected properly.\n",
        "\n",
        "- Memory Fragmentation\n",
        "Over time, repeated allocation and deallocation of objects can fragment memory, reducing efficiency.\n",
        "\n",
        "- Large Objects and Data Structures\n",
        "Handling very large lists, dictionaries, or custom objects can consume lots of memory and slow down the program.\n",
        "\n",
        "- Unintended Object References\n",
        "Holding references longer than needed (e.g., in global variables or caches) prevents garbage collection, causing memory bloat.\n",
        "\n",
        "- Lack of Manual Control\n",
        "Unlike languages like C/C++, Python abstracts memory management, so developers have limited control over when exactly memory is freed.\n",
        "\n",
        "- Memory Overhead of Python Objects\n",
        "Python objects have some inherent memory overhead compared to raw data, due to dynamic typing and internal bookkeeping.\n",
        "\n",
        "24)  How do you raise an exception manually in Python?\n",
        "\n",
        "- You can use the raise statement to manually trigger (raise) an exception whenever you want in your code. This is useful to enforce rules or signal errors.\n",
        "\n",
        "25) Why is it important to use multithreading in certain applications?\n",
        "\n",
        "- Improving Responsiveness (UI applications)\n",
        "In GUI apps, multithreading keeps the interface responsive while doing background work (e.g., file loading, network requests).\n",
        "\n",
        "- Handling I/O-bound Tasks\n",
        "Threads can wait for slow operations like reading files, network communication, or database queries without blocking the entire program.\n",
        "\n",
        "- Parallelism in Lightweight Tasks\n",
        "When tasks involve waiting (e.g., API calls), multithreading allows other tasks to run during wait times.\n",
        "\n",
        "- Resource Sharing\n",
        "Threads share the same memory space, making communication and data sharing between threads simpler than with multiprocessing.\n",
        "\n",
        "- Better CPU Utilization for Some Workloads\n",
        "For I/O-bound programs, threads improve efficiency by overlapping waiting times.\n",
        "\n"
      ],
      "metadata": {
        "id": "B_Lg_khbuqRd"
      }
    },
    {
      "cell_type": "code",
      "source": [
        "# 1)How can you open a file for writing in Python and write a string to it?\n",
        "\n",
        "with open (\"file.txt\",\"w\") as f:\n",
        "  f.write(\"Hello PW skills!\")\n"
      ],
      "metadata": {
        "id": "yvEn___3wxTi"
      },
      "execution_count": null,
      "outputs": []
    },
    {
      "cell_type": "code",
      "source": [
        "# 2)Write a Python program to read the contents of a file and print each line?\n",
        "\n",
        "with open (\"file.txt\",\"r\") as f:\n",
        "  line=f.readline()\n",
        "  print(line)\n"
      ],
      "metadata": {
        "id": "MdN276Gqy2IC",
        "colab": {
          "base_uri": "https://localhost:8080/"
        },
        "outputId": "dff13353-9daa-4d15-8329-39f2821e2016"
      },
      "execution_count": null,
      "outputs": [
        {
          "output_type": "stream",
          "name": "stdout",
          "text": [
            "Hello PW skills!\n"
          ]
        }
      ]
    },
    {
      "cell_type": "code",
      "source": [
        "# 3)How would you handle a case where the file doesn't exist while trying to open it for reading?\n",
        "\n",
        "try:\n",
        "  f= open(\"file1.txt\",\"rb\")\n",
        "except Exception as e:\n",
        "  print(\"No such file exists as \",e)\n"
      ],
      "metadata": {
        "id": "-AWvLuTDy8gc",
        "colab": {
          "base_uri": "https://localhost:8080/"
        },
        "outputId": "68067298-ca6d-4e02-efe4-eeade1151599"
      },
      "execution_count": null,
      "outputs": [
        {
          "output_type": "stream",
          "name": "stdout",
          "text": [
            "No such file exists as  [Errno 2] No such file or directory: 'file1.txt'\n"
          ]
        }
      ]
    },
    {
      "cell_type": "code",
      "source": [
        "# 4)Write a Python script that reads from one file and writes its content to another file?\n",
        "\n",
        "with open (\"file.txt\",\"r\") as f:\n",
        "  with open (\"file2.txt\",\"w\") as f1:\n",
        "    f1.write(f.read())\n",
        "\n"
      ],
      "metadata": {
        "id": "p1YX2dO9y8_S"
      },
      "execution_count": null,
      "outputs": []
    },
    {
      "cell_type": "code",
      "source": [
        "# 5)How would you catch and handle division by zero error in Python?\n",
        "\n",
        "try:\n",
        "  5/0\n",
        "except Exception as e:\n",
        "  print(\"Error is\",e)"
      ],
      "metadata": {
        "id": "pu2sq7Mky9B_",
        "colab": {
          "base_uri": "https://localhost:8080/"
        },
        "outputId": "9c87aad5-96fd-4f53-df7f-11d10891e57d"
      },
      "execution_count": null,
      "outputs": [
        {
          "output_type": "stream",
          "name": "stdout",
          "text": [
            "Error is division by zero\n"
          ]
        }
      ]
    },
    {
      "cell_type": "code",
      "source": [
        "# 6)Write a Python program that logs an error message to a log file when a division by zero exception occurs?\n",
        "\n",
        "import logging\n",
        "\n",
        "# Setup logging configuration\n",
        "logging.basicConfig(filename='error.log',\n",
        "                    level=logging.ERROR,\n",
        "                    format='%(asctime)s - %(levelname)s - %(message)s')\n",
        "\n",
        "def divide(a, b):\n",
        "    try:\n",
        "        result = a / b\n",
        "        print(f\"Result: {result}\")\n",
        "    except ZeroDivisionError as e:\n",
        "        logging.error(f\"Division by zero error: {e}\")\n",
        "        print(\"Error: Cannot divide by zero.\")\n",
        "\n",
        "# Example usage\n",
        "divide(10, 0)\n",
        "\n",
        "\n"
      ],
      "metadata": {
        "id": "NuIqQC9Uy9Eb",
        "colab": {
          "base_uri": "https://localhost:8080/"
        },
        "outputId": "29244bc4-b565-4bc5-c515-a7f9ddee4d1f"
      },
      "execution_count": null,
      "outputs": [
        {
          "output_type": "stream",
          "name": "stderr",
          "text": [
            "ERROR:root:Division by zero error: division by zero\n"
          ]
        },
        {
          "output_type": "stream",
          "name": "stdout",
          "text": [
            "Error: Cannot divide by zero.\n"
          ]
        }
      ]
    },
    {
      "cell_type": "code",
      "source": [
        "# 7)How do you log information at different levels (INFO, ERROR, WARNING) in Python using the logging module?\n",
        "\n",
        "import logging\n",
        "\n",
        "# Basic configuration for logging\n",
        "logging.basicConfig(level=logging.DEBUG,\n",
        "                    format='%(asctime)s - %(levelname)s - %(message)s')\n",
        "\n",
        "logging.info(\"This is an info message\")\n",
        "logging.warning(\"This is a warning message\")\n",
        "logging.error(\"This is an error message\")\n",
        "\n",
        "\n"
      ],
      "metadata": {
        "id": "iYncfdb6y9G-",
        "colab": {
          "base_uri": "https://localhost:8080/"
        },
        "outputId": "a233770d-0f79-4266-b8a4-89f50b93a6c6"
      },
      "execution_count": null,
      "outputs": [
        {
          "output_type": "stream",
          "name": "stderr",
          "text": [
            "WARNING:root:This is a warning message\n",
            "ERROR:root:This is an error message\n"
          ]
        }
      ]
    },
    {
      "cell_type": "code",
      "source": [
        "# 8)Write a program to handle a file opening error using exception handling?\n",
        "\n",
        "file_path = 'non_existent_file.txt'\n",
        "\n",
        "try:\n",
        "    with open(file_path, 'r') as file:\n",
        "        content = file.read()\n",
        "        print(content)\n",
        "except FileNotFoundError:\n",
        "    print(f\"Error: The file '{file_path}' was not found.\")\n",
        "except IOError as e:\n",
        "    print(f\"An I/O error occurred: {e}\")\n",
        "except Exception as e:\n",
        "    print(f\"An unexpected error occurred: {e}\")\n"
      ],
      "metadata": {
        "id": "4-XsYtTOy9Jh",
        "colab": {
          "base_uri": "https://localhost:8080/"
        },
        "outputId": "fbf67728-c363-44ea-a6d5-27abef20a6c3"
      },
      "execution_count": null,
      "outputs": [
        {
          "output_type": "stream",
          "name": "stdout",
          "text": [
            "Error: The file 'non_existent_file.txt' was not found.\n"
          ]
        }
      ]
    },
    {
      "cell_type": "code",
      "source": [
        "# 9)How can you read a file line by line and store its content in a list in Python?\n",
        "\n",
        "file_path = 'file.txt'\n",
        "\n",
        "lines = []\n",
        "with open(file_path, 'r') as file:\n",
        "    for line in file:\n",
        "        lines.append(line.rstrip('\\n'))  # Remove trailing newline characters\n",
        "\n",
        "print(lines)\n",
        "\n"
      ],
      "metadata": {
        "id": "ph3xd37Iy9ME",
        "colab": {
          "base_uri": "https://localhost:8080/"
        },
        "outputId": "62e3c417-e3fd-4d01-8b35-aa50b7a6de2a"
      },
      "execution_count": null,
      "outputs": [
        {
          "output_type": "stream",
          "name": "stdout",
          "text": [
            "['Hello PW skills!']\n"
          ]
        }
      ]
    },
    {
      "cell_type": "code",
      "source": [
        "# 10)How can you append data to an existing file in Python?\n",
        "\n",
        "with open('file.txt', 'a') as file:\n",
        "    file.write(\"This line will be appended.\\n\")\n"
      ],
      "metadata": {
        "id": "IzlEZOwdy9Om"
      },
      "execution_count": null,
      "outputs": []
    },
    {
      "cell_type": "code",
      "source": [
        "# 11)Write a Python program that uses a try-except block to handle an error when attempting to access a dictionary key that doesn't exist?\n",
        "\n",
        "my_dict = {'name': 'Alice', 'age': 25}\n",
        "\n",
        "try:\n",
        "    # Attempt to access a non-existent key\n",
        "    value = my_dict['address']\n",
        "    print(f\"Address: {value}\")\n",
        "except KeyError:\n",
        "    print(\"Error: The key 'address' does not exist in the dictionary.\")\n"
      ],
      "metadata": {
        "id": "72uJGqiHy9RH",
        "colab": {
          "base_uri": "https://localhost:8080/"
        },
        "outputId": "006798ef-6062-4ebb-a305-6f6664369b5e"
      },
      "execution_count": null,
      "outputs": [
        {
          "output_type": "stream",
          "name": "stdout",
          "text": [
            "Error: The key 'address' does not exist in the dictionary.\n"
          ]
        }
      ]
    },
    {
      "cell_type": "code",
      "source": [
        "# 12)Write a program that demonstrates using multiple except blocks to handle different types of exceptions?\n",
        "\n",
        "def divide_and_access_element(a, b, lst, index):\n",
        "    try:\n",
        "        result = a / b                  # May raise ZeroDivisionError\n",
        "        print(f\"Division result: {result}\")\n",
        "\n",
        "        element = lst[index]           # May raise IndexError\n",
        "        print(f\"Element at index {index}: {element}\")\n",
        "\n",
        "        value = int(\"abc\")             # May raise ValueError\n",
        "        print(f\"Converted value: {value}\")\n",
        "\n",
        "    except ZeroDivisionError:\n",
        "        print(\"Error: Cannot divide by zero.\")\n",
        "    except IndexError:\n",
        "        print(\"Error: List index out of range.\")\n",
        "    except ValueError:\n",
        "        print(\"Error: Invalid value for conversion.\")\n",
        "    except Exception as e:\n",
        "        print(f\"An unexpected error occurred: {e}\")\n",
        "\n",
        "# Example usage:\n",
        "my_list = [1, 2, 3]\n",
        "divide_and_access_element(10, 0, my_list, 2)   # Triggers ZeroDivisionError\n",
        "divide_and_access_element(10, 2, my_list, 5)   # Triggers IndexError\n",
        "divide_and_access_element(10, 2, my_list, 1)   # Triggers ValueError on conversion\n"
      ],
      "metadata": {
        "id": "Ya13gT01y9Tl",
        "colab": {
          "base_uri": "https://localhost:8080/"
        },
        "outputId": "856f6c3c-3cc3-4ffa-a92e-cff004f5c626"
      },
      "execution_count": null,
      "outputs": [
        {
          "output_type": "stream",
          "name": "stdout",
          "text": [
            "Error: Cannot divide by zero.\n",
            "Division result: 5.0\n",
            "Error: List index out of range.\n",
            "Division result: 5.0\n",
            "Element at index 1: 2\n",
            "Error: Invalid value for conversion.\n"
          ]
        }
      ]
    },
    {
      "cell_type": "code",
      "source": [
        "# 13)How would you check if a file exists before attempting to read it in Python?\n",
        "\n",
        "import os\n",
        "\n",
        "file_path = 'file1.txt'\n",
        "\n",
        "if os.path.exists(file_path):\n",
        "    with open(file_path, 'r') as file:\n",
        "        content = file.read()\n",
        "        print(content)\n",
        "else:\n",
        "    print(f\"The file '{file_path}' does not exist.\")\n",
        "\n"
      ],
      "metadata": {
        "id": "L_Crhnuny9WN",
        "colab": {
          "base_uri": "https://localhost:8080/"
        },
        "outputId": "de0b0339-9c90-4e6b-928a-bcf20e7d5000"
      },
      "execution_count": null,
      "outputs": [
        {
          "output_type": "stream",
          "name": "stdout",
          "text": [
            "The file 'file1.txt' does not exist.\n"
          ]
        }
      ]
    },
    {
      "cell_type": "code",
      "source": [
        "# 14)Write a program that uses the logging module to log both informational and error messages.\n",
        "\n",
        "import logging\n",
        "\n",
        "# Configure logging: logs to file with time, level, and message\n",
        "logging.basicConfig(filename='app.log',\n",
        "                    level=logging.INFO,\n",
        "                    format='%(asctime)s - %(levelname)s - %(message)s')\n",
        "\n",
        "def divide_numbers(a, b):\n",
        "    logging.info(f\"Attempting to divide {a} by {b}\")\n",
        "    try:\n",
        "        result = a / b\n",
        "        logging.info(f\"Division successful: result is {result}\")\n",
        "        return result\n",
        "    except ZeroDivisionError as e:\n",
        "        logging.error(f\"Error occurred: {e}\")\n",
        "        return None\n",
        "\n",
        "# Example usage\n",
        "divide_numbers(10, 2)\n",
        "divide_numbers(10, 0)\n"
      ],
      "metadata": {
        "id": "4Q8J4hqxy9Zk",
        "colab": {
          "base_uri": "https://localhost:8080/"
        },
        "outputId": "81d6af32-c6fc-4daf-e6dd-25c5d6f89286"
      },
      "execution_count": null,
      "outputs": [
        {
          "output_type": "stream",
          "name": "stderr",
          "text": [
            "ERROR:root:Error occurred: division by zero\n"
          ]
        }
      ]
    },
    {
      "cell_type": "code",
      "source": [
        "# 15)Write a Python program that prints the content of a file and handles the case when the file is empty.\n",
        "\n",
        "import os\n",
        "\n",
        "def print_file_contents(file_path):\n",
        "    try:\n",
        "        if not os.path.exists(file_path):\n",
        "            print(f\"Error: The file '{file_path}' does not exist.\")\n",
        "            return\n",
        "\n",
        "        if os.stat(file_path).st_size == 0:\n",
        "            print(f\"The file '{file_path}' is empty.\")\n",
        "            return\n",
        "\n",
        "        with open(file_path, 'r') as file:\n",
        "            content = file.read()\n",
        "            print(\"File contents:\")\n",
        "            print(content)\n",
        "\n",
        "    except Exception as e:\n",
        "        print(f\"An error occurred: {e}\")\n",
        "\n",
        "# Example usage\n",
        "file_name = 'example.txt'\n",
        "print_file_contents(file_name)\n"
      ],
      "metadata": {
        "id": "wyUpaMPtz53M",
        "colab": {
          "base_uri": "https://localhost:8080/"
        },
        "outputId": "10d04ce1-2da7-49db-ddff-37021f0386b3"
      },
      "execution_count": null,
      "outputs": [
        {
          "output_type": "stream",
          "name": "stdout",
          "text": [
            "Error: The file 'example.txt' does not exist.\n"
          ]
        }
      ]
    },
    {
      "cell_type": "code",
      "source": [
        "# 16)Demonstrate how to use memory profiling to check the memory usage of a small program.\n",
        "\n",
        "!pip install memory_profiler\n",
        "%load_ext memory_profiler\n",
        "\n",
        "from memory_profiler import profile\n",
        "\n",
        "@profile\n",
        "def create_list():\n",
        "    nums = [i for i in range(100000)]\n",
        "    squares = [x**2 for x in nums]\n",
        "    return squares"
      ],
      "metadata": {
        "id": "m1ySu4yjz6FK",
        "colab": {
          "base_uri": "https://localhost:8080/"
        },
        "outputId": "7f30bda6-3893-4bc1-e9ef-8cd282682886"
      },
      "execution_count": null,
      "outputs": [
        {
          "output_type": "stream",
          "name": "stdout",
          "text": [
            "Collecting memory_profiler\n",
            "  Downloading memory_profiler-0.61.0-py3-none-any.whl.metadata (20 kB)\n",
            "Requirement already satisfied: psutil in /usr/local/lib/python3.11/dist-packages (from memory_profiler) (5.9.5)\n",
            "Downloading memory_profiler-0.61.0-py3-none-any.whl (31 kB)\n",
            "Installing collected packages: memory_profiler\n",
            "Successfully installed memory_profiler-0.61.0\n"
          ]
        }
      ]
    },
    {
      "cell_type": "code",
      "source": [
        "# 17)Write a Python program to create and write a list of numbers to a file, one number per line?\n",
        "\n",
        "numbers = [10, 20, 30, 40, 50]\n",
        "\n",
        "# Open a file in write mode\n",
        "with open('numbers.txt', 'w') as file:\n",
        "    for number in numbers:\n",
        "        file.write(f\"{number}\\n\")"
      ],
      "metadata": {
        "id": "oZ9juC8nz6Hx"
      },
      "execution_count": null,
      "outputs": []
    },
    {
      "cell_type": "code",
      "source": [
        "# 18)How would you implement a basic logging setup that logs to a file with rotation after 1MB?\n",
        "\n",
        "import logging\n",
        "from logging.handlers import RotatingFileHandler\n",
        "\n",
        "# Create a logger\n",
        "logger = logging.getLogger('my_logger')\n",
        "logger.setLevel(logging.DEBUG)\n",
        "\n",
        "# Create a rotating file handler that logs up to 1MB and keeps 3 backups\n",
        "handler = RotatingFileHandler('app.log', maxBytes=1*1024*1024, backupCount=3)\n",
        "handler.setLevel(logging.DEBUG)\n",
        "\n",
        "# Create a formatter and set it for the handler\n",
        "formatter = logging.Formatter('%(asctime)s - %(levelname)s - %(message)s')\n",
        "handler.setFormatter(formatter)\n",
        "\n",
        "# Add the handler to the logger\n",
        "logger.addHandler(handler)\n",
        "\n",
        "# Example usage\n",
        "logger.info(\"This is an info message.\")\n",
        "logger.error(\"This is an error message.\")\n",
        "\n",
        "\n"
      ],
      "metadata": {
        "id": "201nXNl4z6KW",
        "colab": {
          "base_uri": "https://localhost:8080/"
        },
        "outputId": "29989cba-5240-4158-810c-c21aad9f548a"
      },
      "execution_count": null,
      "outputs": [
        {
          "output_type": "stream",
          "name": "stderr",
          "text": [
            "INFO:my_logger:This is an info message.\n",
            "ERROR:my_logger:This is an error message.\n"
          ]
        }
      ]
    },
    {
      "cell_type": "code",
      "source": [
        "# 19)Write a program that handles both IndexError and KeyError using a try-except block.\n",
        "\n",
        "def handle_errors():\n",
        "    my_list = [10, 20, 30]\n",
        "    my_dict = {'a': 1, 'b': 2}\n",
        "\n",
        "    try:\n",
        "        # Accessing an invalid list index\n",
        "        print(\"Accessing list element at index 5:\")\n",
        "        print(my_list[5])\n",
        "\n",
        "        # Accessing a non-existent key in dictionary\n",
        "        print(\"Accessing dictionary key 'z':\")\n",
        "        print(my_dict['z'])\n",
        "\n",
        "    except IndexError as ie:\n",
        "        print(f\"IndexError caught: {ie}\")\n",
        "\n",
        "    except KeyError as ke:\n",
        "        print(f\"KeyError caught: {ke}\")\n",
        "\n",
        "    except Exception as e:\n",
        "        print(f\"An unexpected error occurred: {e}\")\n",
        "\n",
        "handle_errors()"
      ],
      "metadata": {
        "id": "Oirwbf1Uz6M9",
        "colab": {
          "base_uri": "https://localhost:8080/"
        },
        "outputId": "748b6cd0-99fa-4252-faed-bcb3605482db"
      },
      "execution_count": null,
      "outputs": [
        {
          "output_type": "stream",
          "name": "stdout",
          "text": [
            "Accessing list element at index 5:\n",
            "IndexError caught: list index out of range\n"
          ]
        }
      ]
    },
    {
      "cell_type": "code",
      "source": [
        "# 20)How would you open a file and read its contents using a context manager in Python?\n",
        "\n",
        "file_path = 'file.txt'\n",
        "\n",
        "try:\n",
        "    with open(file_path, 'r') as file:\n",
        "        content = file.read()\n",
        "        print(content)\n",
        "except FileNotFoundError:\n",
        "    print(\"The file was not found.\")"
      ],
      "metadata": {
        "id": "1_ofDeLhz6Pp",
        "colab": {
          "base_uri": "https://localhost:8080/"
        },
        "outputId": "efb882e8-6e6a-43a6-d97c-54ddda01d36b"
      },
      "execution_count": null,
      "outputs": [
        {
          "output_type": "stream",
          "name": "stdout",
          "text": [
            "Hello PW skills!This line will be appended.\n",
            "\n"
          ]
        }
      ]
    },
    {
      "cell_type": "code",
      "source": [
        "# 21)Write a Python program that reads a file and prints the number of occurrences of a specific word.\n",
        "\n",
        "import re\n",
        "\n",
        "def count_word_occurrences(file_path, target_word):\n",
        "    try:\n",
        "        with open(file_path, 'r') as file:\n",
        "            content = file.read().lower()\n",
        "            # Use regex to find whole word matches, ignoring punctuation\n",
        "            words = re.findall(r'\\b' + re.escape(target_word.lower()) + r'\\b', content)\n",
        "            print(f\"The word '{target_word}' occurs {len(words)} times in the file.\")\n",
        "    except FileNotFoundError:\n",
        "        print(f\"Error: The file '{file_path}' was not found.\")\n",
        "    except Exception as e:\n",
        "        print(f\"An error occurred: {e}\")\n",
        "\n",
        "file_name = 'file.txt'\n",
        "word_to_search = 'example'\n",
        "count_word_occurrences(file_name, word_to_search)"
      ],
      "metadata": {
        "id": "ddCUVhBZz6SJ",
        "colab": {
          "base_uri": "https://localhost:8080/"
        },
        "outputId": "e00f388f-d804-4d73-c483-e651863cf238"
      },
      "execution_count": null,
      "outputs": [
        {
          "output_type": "stream",
          "name": "stdout",
          "text": [
            "The word 'example' occurs 0 times in the file.\n"
          ]
        }
      ]
    },
    {
      "cell_type": "code",
      "source": [
        "# 22)How can you check if a file is empty before attempting to read its contents?\n",
        "\n",
        "file_path = 'file.txt'\n",
        "\n",
        "try:\n",
        "    with open(file_path, 'r') as f:\n",
        "        first_char = f.read(1)\n",
        "        if not first_char:\n",
        "            print(\"The file is empty.\")\n",
        "        else:\n",
        "            f.seek(0)\n",
        "            content = f.read()\n",
        "            print(content)\n",
        "except FileNotFoundError:\n",
        "    print(\"File does not exist.\")\n",
        "\n"
      ],
      "metadata": {
        "id": "sGsoJye5z6Vq",
        "colab": {
          "base_uri": "https://localhost:8080/"
        },
        "outputId": "14076b6e-914f-481c-adba-a8138efdd7f8"
      },
      "execution_count": null,
      "outputs": [
        {
          "output_type": "stream",
          "name": "stdout",
          "text": [
            "Hello PW skills!This line will be appended.\n",
            "\n"
          ]
        }
      ]
    },
    {
      "cell_type": "code",
      "source": [
        "# 23)Write a Python program that writes to a log file when an error occurs during file handling.\n",
        "\n",
        "import logging\n",
        "logging.basicConfig(filename='error.log', level=logging.ERROR,\n",
        "                    format='%(asctime)s - %(levelname)s - %(message)s')\n",
        "\n",
        "try:\n",
        "    with open(\"file.txt\", \"r\") as f:\n",
        "        content = f.read()\n",
        "        print(content)\n",
        "except FileNotFoundError as e:\n",
        "    logging.error(\"File not found: %s\", e)\n",
        "except IOError as e:\n",
        "    logging.error(\"I/O error occurred: %s\", e)\n",
        "except Exception as e:\n",
        "    logging.error(\"An unexpected error occurred: %s\", e)"
      ],
      "metadata": {
        "id": "lfdv-2pN0nkr",
        "colab": {
          "base_uri": "https://localhost:8080/"
        },
        "outputId": "d63f6739-3de2-4f98-eef4-09111c456de5"
      },
      "execution_count": null,
      "outputs": [
        {
          "output_type": "stream",
          "name": "stdout",
          "text": [
            "Hello PW skills!This line will be appended.\n",
            "\n"
          ]
        }
      ]
    }
  ]
}